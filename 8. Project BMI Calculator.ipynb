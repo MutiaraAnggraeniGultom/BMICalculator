{
 "cells": [
  {
   "cell_type": "markdown",
   "id": "218e4389-b0bb-4e75-8a7c-0e65f5b26c9f",
   "metadata": {},
   "source": [
    "# BMI Calculator\n",
    "\n",
    "BMI =  weight(kg) / height^2(m)\n",
    "Berat badan kurang\t18.4 ke bawah\tRisiko malnutrisi\r\n",
    "Berat badan normal\t18,5 - 24,9\tResiko rendah\r\n",
    "Kegemukan\t25 - 29.9\tResiko meningkat\r\n",
    "Obesitas sedang\t30 - 34.9\tResiko sedang\r\n",
    "Sangat gemuk\t35 - 39.9\tBerisiko tinggi\r\n",
    "Sangat gemuk\t40 tahun ke atas\tResiko sangat tinggi"
   ]
  },
  {
   "cell_type": "code",
   "execution_count": 47,
   "id": "c7011dae-4e64-4a94-87fb-9d002b909c65",
   "metadata": {},
   "outputs": [
    {
     "name": "stdin",
     "output_type": "stream",
     "text": [
      "Enter your name:  Muti\n",
      "Enter your weight in kilograms:  50\n",
      "Enter your height in meters:  1.65\n"
     ]
    },
    {
     "name": "stdout",
     "output_type": "stream",
     "text": [
      "Your BMI:  18.36547291092746\n",
      "Muti, you are underweight. Please eat more!\n"
     ]
    }
   ],
   "source": [
    "name = input(\"Enter your name: \")\n",
    "\n",
    "weight = int(input(\"Enter your weight in kilograms: \"))\n",
    "height = float(input(\"Enter your height in meters: \"))\n",
    "\n",
    "BMI = (weight) / (height * height)\n",
    "print(\"Your BMI: \", BMI)\n",
    "if BMI > 0:\n",
    "    if (BMI <= 18.4):\n",
    "        print(name+\", you are underweight. Please eat more!\")\n",
    "    elif (18.5 <= BMI <= 24.9):\n",
    "        print(name+\", your weight is normal.\")\n",
    "    elif (25 <= BMI <= 29.9):\n",
    "        print(name+\", you are overweight.\")\n",
    "    elif (30 <= BMI <= 34.9):\n",
    "        print(name+\", you are moderate obese.\")\n",
    "    elif (35 <= BMI <= 39.9):\n",
    "        print(name+\", you are severly obese.\")\n",
    "    else:\n",
    "        print(name+\", you are morbidly obese.\")\n",
    "else:\n",
    "    print(\"Enter valid input.\")"
   ]
  }
 ],
 "metadata": {
  "kernelspec": {
   "display_name": "Python 3 (ipykernel)",
   "language": "python",
   "name": "python3"
  },
  "language_info": {
   "codemirror_mode": {
    "name": "ipython",
    "version": 3
   },
   "file_extension": ".py",
   "mimetype": "text/x-python",
   "name": "python",
   "nbconvert_exporter": "python",
   "pygments_lexer": "ipython3",
   "version": "3.12.4"
  }
 },
 "nbformat": 4,
 "nbformat_minor": 5
}
